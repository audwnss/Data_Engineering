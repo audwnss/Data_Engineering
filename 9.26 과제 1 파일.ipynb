{
 "cells": [
  {
   "cell_type": "code",
   "execution_count": 47,
   "id": "7c323e0a",
   "metadata": {},
   "outputs": [],
   "source": [
    "lovely_loveseat_price = 254.00  \n",
    "luxurious_lamp_price = 52.15   "
   ]
  },
  {
   "cell_type": "code",
   "execution_count": 48,
   "id": "57aaaad4",
   "metadata": {},
   "outputs": [],
   "source": [
    "subtotal = lovely_loveseat_price + luxurious_lamp_price"
   ]
  },
  {
   "cell_type": "code",
   "execution_count": 49,
   "id": "70115823",
   "metadata": {},
   "outputs": [],
   "source": [
    "tax_rate = 0.088\n",
    "sales_tax = subtotal * tax_rate"
   ]
  },
  {
   "cell_type": "code",
   "execution_count": 50,
   "id": "3ec9d360",
   "metadata": {},
   "outputs": [],
   "source": [
    "total = subtotal + sales_tax\n",
    "customer_one_total = total"
   ]
  },
  {
   "cell_type": "code",
   "execution_count": 51,
   "id": "f60f8d30",
   "metadata": {},
   "outputs": [
    {
     "name": "stdout",
     "output_type": "stream",
     "text": [
      "Lovely Loveseat, Tufted polyester blend on wood,\n",
      "32 inches high x 40 inches wide x 30 inches deep, Red or White.\n",
      "Luxurious Lamp, Glass and iron, 36 inches tall, Brown with cream shade\n"
     ]
    }
   ],
   "source": [
    "customer_one_itemization = (\n",
    "    \"Lovely Loveseat, Tufted polyester blend on wood,\",\n",
    "    \"32 inches high x 40 inches wide x 30 inches deep, Red or White.\",\n",
    "    \"Luxurious Lamp, Glass and iron, 36 inches tall, Brown with cream shade\"\n",
    ")\n",
    "for item in customer_one_itemization:\n",
    "    print(item)"
   ]
  },
  {
   "cell_type": "code",
   "execution_count": 53,
   "id": "c96ac1bc",
   "metadata": {},
   "outputs": [
    {
     "name": "stdout",
     "output_type": "stream",
     "text": [
      "Customer One Items:\n",
      "Lovely Loveseat, Tufted polyester blend on wood,\n",
      "32 inches high x 40 inches wide x 30 inches deep, Red or White.\n",
      "Luxurious Lamp, Glass and iron, 36 inches tall, Brown with cream shade\n",
      "Customer One Total: 333.09119999999996\n"
     ]
    }
   ],
   "source": [
    "print(\"Customer One Items:\")\n",
    "for item in customer_one_itemization:\n",
    "    print(item)\n",
    "print(\"Customer One Total:\", total)"
   ]
  },
  {
   "cell_type": "code",
   "execution_count": null,
   "id": "7ff15082",
   "metadata": {},
   "outputs": [],
   "source": []
  },
  {
   "cell_type": "code",
   "execution_count": null,
   "id": "ed4f4584",
   "metadata": {},
   "outputs": [],
   "source": []
  },
  {
   "cell_type": "code",
   "execution_count": null,
   "id": "19d3e5ff",
   "metadata": {},
   "outputs": [],
   "source": []
  }
 ],
 "metadata": {
  "kernelspec": {
   "display_name": "Python 3 (ipykernel)",
   "language": "python",
   "name": "python3"
  },
  "language_info": {
   "codemirror_mode": {
    "name": "ipython",
    "version": 3
   },
   "file_extension": ".py",
   "mimetype": "text/x-python",
   "name": "python",
   "nbconvert_exporter": "python",
   "pygments_lexer": "ipython3",
   "version": "3.11.4"
  }
 },
 "nbformat": 4,
 "nbformat_minor": 5
}
